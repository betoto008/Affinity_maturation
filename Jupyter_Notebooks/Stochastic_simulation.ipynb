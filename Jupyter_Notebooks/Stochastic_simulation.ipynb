{
 "cells": [
  {
   "cell_type": "code",
   "execution_count": 9,
   "metadata": {},
   "outputs": [
    {
     "data": {
      "application/javascript": [
       "IPython.notebook.set_autosave_interval(60000)"
      ]
     },
     "metadata": {},
     "output_type": "display_data"
    },
    {
     "name": "stdout",
     "output_type": "stream",
     "text": [
      "Autosaving every 60 seconds\n"
     ]
    }
   ],
   "source": [
    "import sys\n",
    "sys.path.append('../Codes/')\n",
    "import numpy as np\n",
    "import matplotlib.pyplot as plt\n",
    "from Sequences import*\n",
    "from Bio import Phylo\n",
    "from io import StringIO\n",
    "from matplotlib.lines import Line2D\n",
    "%autosave 60"
   ]
  },
  {
   "cell_type": "code",
   "execution_count": 8,
   "metadata": {},
   "outputs": [
    {
     "name": "stdout",
     "output_type": "stream",
     "text": [
      "0 0 aaaaaaaaa 1 False 0 0\n",
      "1 0 abaaaaaaa 1 False 0 0\n",
      "30 3 abaacaaac 1 False 0 0\n",
      "8000 2057 abbaacaca 1 False 0 1\n",
      "[[    0     0]\n",
      " [    0     1]\n",
      " [    1     2]\n",
      " ...\n",
      " [ 5831 14997]\n",
      " [13128 14998]\n",
      " [ 1991 14999]]\n"
     ]
    }
   ],
   "source": [
    "Master_Sequence = Sequence(seq_id = 0, parent = 'aaaaaaaaa', Master_Seq=True)\n",
    "Sequences = np.array([Master_Sequence])\n",
    "for i in range(1, 15000):\n",
    "    parent = np.random.choice(Sequences)\n",
    "    parent.tree_position = 0\n",
    "    new_seq = Sequence(seq_id = i, parent = parent.sequence, parent_id = parent.id)\n",
    "    Sequences = np.append(Sequences, new_seq)\n",
    "    \n",
    "print(Sequences[0].id, Sequences[0].parent_id, Sequences[0].sequence,Sequences[0].clone_size, Sequences[0].active, Sequences[0].energy, Sequences[0].tree_position)\n",
    "print(Sequences[1].id, Sequences[1].parent_id, Sequences[1].sequence,Sequences[1].clone_size, Sequences[1].active, Sequences[1].energy, Sequences[1].tree_position)\n",
    "print(Sequences[30].id, Sequences[30].parent_id, Sequences[30].sequence,Sequences[30].clone_size, Sequences[30].active, Sequences[30].energy, Sequences[30].tree_position)\n",
    "print(Sequences[8000].id, Sequences[8000].parent_id, Sequences[8000].sequence,Sequences[8000].clone_size, Sequences[8000].active, Sequences[8000].energy, Sequences[8000].tree_position)\n",
    "print_raw_file(Sequences, \"../Text_files/file.txt\")\n",
    "generate_newick_format(\"../Text_files/file.txt\")\n"
   ]
  },
  {
   "cell_type": "code",
   "execution_count": 3,
   "metadata": {},
   "outputs": [
    {
     "data": {
      "image/png": "[encoded data removed]",
      "text/plain": [
       "<Figure size 432x288 with 1 Axes>"
      ]
     },
     "metadata": {
      "needs_background": "light"
     },
     "output_type": "display_data"
    }
   ],
   "source": [
    "tree = Phylo.read(StringIO(\"Master(A():0.84600,B((sea_lion:11.99700, seal:12.00300):7.52973,C((monkey:10.85930,cat:17.14069):10.59201, weasel:18.87953):2.09460):3.87382,dog:25.46154)\"), \"newick\")\n",
    "tree.ladderize()  # Flip branches so deeper clades are displayed at top\n",
    "Phylo.draw(tree)"
   ]
  },
  {
   "cell_type": "code",
   "execution_count": null,
   "metadata": {},
   "outputs": [],
   "source": []
  },
  {
   "cell_type": "code",
   "execution_count": null,
   "metadata": {},
   "outputs": [],
   "source": []
  }
 ],
 "metadata": {
  "kernelspec": {
   "display_name": "Python 3",
   "language": "python",
   "name": "python3"
  },
  "language_info": {
   "codemirror_mode": {
    "name": "ipython",
    "version": 3
   },
   "file_extension": ".py",
   "mimetype": "text/x-python",
   "name": "python",
   "nbconvert_exporter": "python",
   "pygments_lexer": "ipython3",
   "version": "3.7.6"
  }
 },
 "nbformat": 4,
 "nbformat_minor": 2
}
