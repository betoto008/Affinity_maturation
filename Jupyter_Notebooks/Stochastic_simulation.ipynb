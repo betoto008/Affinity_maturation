{
 "cells": [
  {
   "cell_type": "code",
   "execution_count": 1,
   "metadata": {},
   "outputs": [
    {
     "name": "stdout",
     "output_type": "stream",
     "text": [
      "['seaborn-dark', 'seaborn-darkgrid', 'seaborn-ticks', 'fivethirtyeight', 'seaborn-whitegrid', 'classic', '_classic_test', 'fast', 'seaborn-talk', 'seaborn-dark-palette', 'seaborn-bright', 'seaborn-pastel', 'grayscale', 'seaborn-notebook', 'ggplot', 'seaborn-colorblind', 'seaborn-muted', 'seaborn', 'Solarize_Light2', 'seaborn-paper', 'bmh', 'tableau-colorblind10', 'seaborn-white', 'dark_background', 'seaborn-poster', 'seaborn-deep']\n"
     ]
    },
    {
     "data": {
      "application/javascript": [
       "IPython.notebook.set_autosave_interval(60000)"
      ]
     },
     "metadata": {},
     "output_type": "display_data"
    },
    {
     "name": "stdout",
     "output_type": "stream",
     "text": [
      "Autosaving every 60 seconds\n"
     ]
    }
   ],
   "source": [
    "import sys\n",
    "sys.path.append('../Codes/')\n",
    "import numpy as np\n",
    "import matplotlib.pyplot as plt\n",
    "from Immuno_models import*\n",
    "from Bio import Phylo\n",
    "from io import StringIO\n",
    "from matplotlib.lines import Line2D\n",
    "from datetime import datetime, timedelta\n",
    "import scipy.special as sc\n",
    "import os.path\n",
    "import pickle\n",
    "from matplotlib import style\n",
    "style.use('seaborn-paper')\n",
    "print(style.available)\n",
    "%autosave 60"
   ]
  },
  {
   "cell_type": "markdown",
   "metadata": {},
   "source": [
    "## Generating Sequences"
   ]
  },
  {
   "cell_type": "code",
   "execution_count": 2,
   "metadata": {},
   "outputs": [
    {
     "name": "stdout",
     "output_type": "stream",
     "text": [
      "CPU times: user 3.89 s, sys: 408 ms, total: 4.3 s\n",
      "Wall time: 4.36 s\n"
     ]
    }
   ],
   "source": [
    "%%time\n",
    "n_seq = 400000\n",
    "#Sequences = generate_Sequences(n_seq)\n",
    "#pickle.dump( Sequences, open( \"../Text_files/Sequences-n_seq-%d.pkl\"%(n_seq), \"wb\" ) )\n",
    "\n",
    "Sequences = pickle.load( open( \"../Text_files/Sequences-n_seq-%d.pkl\"%(n_seq), \"rb\" ) )\n",
    "\n",
    "#print_raw_file(Sequences, \"../Text_files/file2.txt\")\n",
    "#generate_newick_format(\"../Text_files/file2.txt\")\n"
   ]
  },
  {
   "cell_type": "code",
   "execution_count": 3,
   "metadata": {},
   "outputs": [
    {
     "data": {
      "text/plain": [
       "('odsadmgao',\n",
       " 'mdnbdmgat',\n",
       " 4,\n",
       " -3.1000000000000014,\n",
       " -3.1200000000000014,\n",
       " -0.01999999999999999)"
      ]
     },
     "execution_count": 3,
     "metadata": {},
     "output_type": "execute_result"
    }
   ],
   "source": [
    "Sequences[8000].master_sequence, Sequences[8000].sequence, Sequences[8000].hamming_distance, Sequences[8000].energy_parent, Sequences[8000].energy, Sequences[8000].delta_energy\n"
   ]
  },
  {
   "cell_type": "code",
   "execution_count": 15,
   "metadata": {},
   "outputs": [],
   "source": [
    "fig, ax = plt.subplots(1,3,figsize=(30,8))\n",
    "\n",
    "distances = plot_histogram_hamming_distance(Sequences = Sequences, ax = ax[0])\n",
    "energies = plot_histogram_energy(Sequences = Sequences, ax = ax[1])\n",
    "plot_scatter_hamming_distance_energy(distances = distances, energies = energies, ax = ax[2])\n",
    "\n",
    "fig.savefig('../Figures/Sequences-n_seq-%d.png'%(n_seq))\n",
    "plt.close()\n"
   ]
  },
  {
   "cell_type": "markdown",
   "metadata": {},
   "source": [
    "## Stochastic Simulation"
   ]
  },
  {
   "cell_type": "code",
   "execution_count": 18,
   "metadata": {},
   "outputs": [
    {
     "name": "stdout",
     "output_type": "stream",
     "text": [
      "CPU times: user 2min 41s, sys: 2min 10s, total: 4min 52s\n",
      "Wall time: 5min\n"
     ]
    }
   ],
   "source": [
    "%%time\n",
    "n_linages = 200\n",
    "U = n_linages/n_seq\n",
    "nu = 2\n",
    "R=6\n",
    "beta = 1\n",
    "gamma = 1\n",
    "T = 20000\n",
    "Sub_Sequences = np.random.choice(Sequences, n_linages)\n",
    "Model = Stochastic_simulation(Sequences = Sub_Sequences, n_linages=n_linages, T = T, U = U, gamma = gamma,\n",
    "                              nu = nu, R = R, beta = beta, master_Sequence_energy = 12)\n",
    "Model.Gillespie()\n"
   ]
  },
  {
   "cell_type": "code",
   "execution_count": 19,
   "metadata": {},
   "outputs": [],
   "source": [
    "fig, ax = plt.subplots(3,2,figsize=(20,24))\n",
    "\n",
    "Model.plot_energy_matrix(ax = ax[0,0])\n",
    "Model.plot_antigen_time(ax = ax[0,1])\n",
    "Model.plot_prob_binding(ax = ax[1,0])\n",
    "Model.stackplot_linages_time(ax = ax[1,1])\n",
    "Model.hist_sequences_hamming_distance(Sequences = Sequences, ax = ax[2,0])\n",
    "Model.hist_sequences_energy(Sequences = Sequences, ax = ax[2,1])\n",
    "\n",
    "\n",
    "counter = 0\n",
    "while(os.path.isfile('../Figures/Antigen_Linages_%d.png'%(counter))):\n",
    "    counter+=1\n",
    "    \n",
    "fig.savefig('../Figures/Antigen_Linages_%d.png'%(counter))\n",
    "plt.close()\n"
   ]
  },
  {
   "cell_type": "code",
   "execution_count": 20,
   "metadata": {
    "scrolled": true
   },
   "outputs": [],
   "source": [
    "fig, ax = plt.subplots(4,2,figsize=(20,32))\n",
    "\n",
    "for i, k in enumerate([4, 10, 50, 100]):\n",
    "\n",
    "    biggest_k_linages_freq = Model.plot_k_largest_linages(k=k, ax=ax[i,0])\n",
    "    Model.plot_entropy_k_largest_linages(k=k, biggest_k_linages_freq = biggest_k_linages_freq, ax=ax[i,1])\n",
    "\n",
    "counter = 0\n",
    "while(os.path.isfile('../Figures/Entropy_%d.png'%(counter))):\n",
    "    counter+=1\n",
    "    \n",
    "fig.savefig('../Figures/Entropy_%d.png'%(counter))\n",
    "plt.close()\n"
   ]
  },
  {
   "cell_type": "code",
   "execution_count": 21,
   "metadata": {},
   "outputs": [
    {
     "data": {
      "image/png": "[encoded data removed]",
      "text/plain": [
       "<Figure size 460.8x316.8 with 1 Axes>"
      ]
     },
     "metadata": {
      "needs_background": "light"
     },
     "output_type": "display_data"
    }
   ],
   "source": [
    "tree = Phylo.read(StringIO(\"Master(A():0.84600,B((sea_lion:11.99700, seal:12.00300):7.52973,C((monkey:10.85930,cat:17.14069):10.59201, weasel:18.87953):2.09460):3.87382,dog:25.46154):0\"), \"newick\")\n",
    "tree.ladderize()  # Flip branches so deeper clades are displayed at top\n",
    "Phylo.draw(tree)"
   ]
  },
  {
   "cell_type": "markdown",
   "metadata": {},
   "source": [
    "## Distribution clone size"
   ]
  },
  {
   "cell_type": "code",
   "execution_count": null,
   "metadata": {},
   "outputs": [],
   "source": [
    "%%time\n",
    "n_linages = 200\n",
    "U = n_linages/n_seq\n",
    "nu = 2\n",
    "R=6\n",
    "beta = 1\n",
    "gamma = 1\n",
    "T = 7\n",
    "activated_linages_size = []\n",
    "for i in range(10):\n",
    "    Sub_Sequences = np.random.choice(Sequences, n_linages)\n",
    "    Model = Stochastic_simulation(Sequences = Sub_Sequences, n_linages=n_linages, T = T, U = U, gamma = gamma,\n",
    "                                  nu = nu, R = R, beta = beta, master_Sequence_energy = 12)\n",
    "    Model.Gillespie()\n",
    "    activated_linages_size = np.append(activated_linages_size, [Model.linages_time_series[i,-1] for i in range(n_linages) if Model.Sequences[i].active])\n",
    "\n",
    "fig, ax = plt.subplots(1,1,figsize=(10,8))\n",
    "data_activated_linages = np.histogram(activated_linages_size, bins = 100)\n",
    "ax.plot(data_activated_linages[1][:-1], np.cumsum(data_activated_linages[0]/len(activated_linages_size)), linewidth = 4, color = 'tab:red')\n",
    "ax.set_xlabel(r'Clone size $n_i$', fontsize = 20)\n",
    "ax.set_ylabel(r'probability', fontsize = 20)\n",
    "ax.tick_params(labelsize = 20)\n",
    "ax.set_xscale('log')\n",
    "ax.set_yscale('log')\n",
    "fig.savefig('../Figures/Linages_size_distribution.png')"
   ]
  },
  {
   "cell_type": "code",
   "execution_count": null,
   "metadata": {},
   "outputs": [],
   "source": []
  }
 ],
 "metadata": {
  "kernelspec": {
   "display_name": "Python 3",
   "language": "python",
   "name": "python3"
  },
  "language_info": {
   "codemirror_mode": {
    "name": "ipython",
    "version": 3
   },
   "file_extension": ".py",
   "mimetype": "text/x-python",
   "name": "python",
   "nbconvert_exporter": "python",
   "pygments_lexer": "ipython3",
   "version": "3.7.7"
  }
 },
 "nbformat": 4,
 "nbformat_minor": 2
}
